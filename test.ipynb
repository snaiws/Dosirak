{
  "nbformat": 4,
  "nbformat_minor": 0,
  "metadata": {
    "colab": {
      "provenance": [],
      "authorship_tag": "ABX9TyOHc5r5y42x4KahKY2Cc7VP",
      "include_colab_link": true
    },
    "kernelspec": {
      "name": "python3",
      "display_name": "Python 3"
    },
    "language_info": {
      "name": "python"
    }
  },
  "cells": [
    {
      "cell_type": "markdown",
      "metadata": {
        "id": "view-in-github",
        "colab_type": "text"
      },
      "source": [
        "<a href=\"https://colab.research.google.com/github/snaiws/Dosirak/blob/main/test.ipynb\" target=\"_parent\"><img src=\"https://colab.research.google.com/assets/colab-badge.svg\" alt=\"Open In Colab\"/></a>"
      ]
    },
    {
      "cell_type": "code",
      "execution_count": 3,
      "metadata": {
        "id": "7pjrnnmb4exa"
      },
      "outputs": [],
      "source": [
        "import requests\n",
        "import os\n",
        "import math\n",
        "import itertools\n",
        "\n",
        "\n",
        "import numpy as np\n",
        "import pandas as pandas"
      ]
    },
    {
      "cell_type": "code",
      "source": [
        "keyId = ''\n",
        "serviceId = {'nut':'I2790'}\n",
        "dataType = 'json'\n",
        "startIdx = 0\n",
        "endIdx = 100\n",
        "nut_url = f'http://openapi.foodsafetykorea.go.kr/api/{keyId}/{serviceId[\"nut\"]}/{dataType}/{startIdx}/{endIdx}'\n",
        "req = requests.get(nut_url)"
      ],
      "metadata": {
        "id": "4FQ6khy141kE"
      },
      "execution_count": 53,
      "outputs": []
    },
    {
      "cell_type": "code",
      "source": [
        "nut_dict = {\n",
        "    'NUM' : '번호',\n",
        "    'FOOD_CD' : '식품코드',\n",
        "    'SAMPLING_REGION_NAME' : '지역명',\n",
        "    'SAMPLING_MONTH_NAME' : '채취월',\n",
        "    'SAMPLING_REGION_CD' : '지역코드',\n",
        "    'SAMPLING_MONTH_CD' : '채취월코드',\n",
        "    'GROUP_NAME' : '식품군',\n",
        "    'DESC_KOR' : '식품이름',\n",
        "    'RESEARCH_YEAR' : '조사년도',\n",
        "    'MAKER_NAME' : '제조사명',\n",
        "    'SUB_REF_NAME' : '자료출처',\n",
        "    'SERVING_SIZE' : '총내용량',\n",
        "    'NUTR_CONT1' : '열량(kcal)(1회제공량당)',\n",
        "    'NUTR_CONT2' : '탄수화물(g)(1회제공량당)',\n",
        "    'NUTR_CONT3' : '단백질(g)(1회제공량당)',\n",
        "    'NUTR_CONT4' : '지방(g)(1회제공량당)',\n",
        "    'NUTR_CONT5' : '당류(g)(1회제공량당)',\n",
        "    'NUTR_CONT6' : '나트륨(mg)(1회제공량당)',\n",
        "    'NUTR_CONT7' : '콜레스테롤(mg)(1회제공량당)',\n",
        "    'NUTR_CONT8' : '포화지방산(g)(1회제공량당)',\n",
        "    'NUTR_CONT9' : '트랜스지방(g)(1회제공량당)'\n",
        "}"
      ],
      "metadata": {
        "id": "nHizqsBO41xO"
      },
      "execution_count": null,
      "outputs": []
    },
    {
      "cell_type": "code",
      "source": [
        "len(req.json()[serviceId[\"nut\"]]['row'])"
      ],
      "metadata": {
        "colab": {
          "base_uri": "https://localhost:8080/"
        },
        "id": "R5yb6OCM41pL",
        "outputId": "34ea720e-6d45-4cfa-b0a2-5bbd073c1f68"
      },
      "execution_count": 62,
      "outputs": [
        {
          "output_type": "execute_result",
          "data": {
            "text/plain": [
              "100"
            ]
          },
          "metadata": {},
          "execution_count": 62
        }
      ]
    },
    {
      "cell_type": "code",
      "source": [
        "list(req.json()[serviceId[\"nut\"]]['row'][0].keys())"
      ],
      "metadata": {
        "colab": {
          "base_uri": "https://localhost:8080/"
        },
        "id": "ahA-ZI7X41rR",
        "outputId": "192dba85-ba31-4d3d-84e3-4d873dc8c41e"
      },
      "execution_count": 67,
      "outputs": [
        {
          "output_type": "execute_result",
          "data": {
            "text/plain": [
              "['NUTR_CONT8',\n",
              " 'NUTR_CONT9',\n",
              " 'NUTR_CONT4',\n",
              " 'NUTR_CONT5',\n",
              " 'NUTR_CONT6',\n",
              " 'NUM',\n",
              " 'NUTR_CONT7',\n",
              " 'NUTR_CONT1',\n",
              " 'NUTR_CONT2',\n",
              " 'SUB_REF_NAME',\n",
              " 'NUTR_CONT3',\n",
              " 'RESEARCH_YEAR',\n",
              " 'MAKER_NAME',\n",
              " 'GROUP_NAME',\n",
              " 'SERVING_SIZE',\n",
              " 'SAMPLING_REGION_NAME',\n",
              " 'SAMPLING_MONTH_CD',\n",
              " 'SAMPLING_MONTH_NAME',\n",
              " 'DESC_KOR',\n",
              " 'SAMPLING_REGION_CD',\n",
              " 'FOOD_CD']"
            ]
          },
          "metadata": {},
          "execution_count": 67
        }
      ]
    },
    {
      "cell_type": "code",
      "source": [],
      "metadata": {
        "id": "ccqplcOh41zY"
      },
      "execution_count": null,
      "outputs": []
    }
  ]
}